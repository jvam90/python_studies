{
 "cells": [
  {
   "cell_type": "code",
   "execution_count": 5,
   "id": "7d868406",
   "metadata": {},
   "outputs": [
    {
     "name": "stdout",
     "output_type": "stream",
     "text": [
      "Hi! Your name is João and the sum of the values is 6.\n"
     ]
    }
   ],
   "source": [
    "from typing import TypedDict, List\n",
    "from langgraph.graph import StateGraph\n",
    "\n",
    "class AppState(TypedDict):\n",
    "    values: List[int]\n",
    "    name: str\n",
    "    result: str\n",
    "\n",
    "\n",
    "def process_values(state: AppState) -> AppState:\n",
    "    \"\"\"Tratar vários valores\"\"\"\n",
    "    state['result'] = f\"Hi! Your name is {state['name']} and the sum of the values is {sum(state['values'])}.\"\n",
    "    return state\n",
    "\n",
    "graph = StateGraph(AppState)\n",
    "graph.add_node(\"process\", process_values)\n",
    "graph.set_entry_point(\"process\")\n",
    "graph.set_finish_point(\"process\")\n",
    "\n",
    "app = graph.compile()\n",
    "result = app.invoke({\"name\": \"João\", \"values\": [1,2,3]})\n",
    "print(result['result'])"
   ]
  },
  {
   "cell_type": "code",
   "execution_count": null,
   "id": "9ac9e348",
   "metadata": {},
   "outputs": [],
   "source": []
  }
 ],
 "metadata": {
  "kernelspec": {
   "display_name": ".venv",
   "language": "python",
   "name": "python3"
  },
  "language_info": {
   "codemirror_mode": {
    "name": "ipython",
    "version": 3
   },
   "file_extension": ".py",
   "mimetype": "text/x-python",
   "name": "python",
   "nbconvert_exporter": "python",
   "pygments_lexer": "ipython3",
   "version": "3.13.2"
  }
 },
 "nbformat": 4,
 "nbformat_minor": 5
}
