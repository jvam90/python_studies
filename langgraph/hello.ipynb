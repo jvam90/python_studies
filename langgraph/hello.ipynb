{
 "cells": [
  {
   "cell_type": "code",
   "execution_count": null,
   "id": "71cc1236",
   "metadata": {},
   "outputs": [
    {
     "data": {
      "image/png": "[encoded data removed]",
      "text/plain": [
       "<IPython.core.display.Image object>"
      ]
     },
     "metadata": {},
     "output_type": "display_data"
    },
    {
     "name": "stdout",
     "output_type": "stream",
     "text": [
      "Hello, João!\n"
     ]
    }
   ],
   "source": [
    "from typing import TypedDict\n",
    "from langgraph.graph import StateGraph\n",
    "\n",
    "# estado: estrutura que vai conter toda informação necessária para que a aplicação rode como um todo\n",
    "class AgentState(TypedDict):\n",
    "    message: str\n",
    "\n",
    "# nó: uma função que vai operar em cima do estado e vai retornar o próprio estado\n",
    "def greet(state: AgentState) -> AgentState:\n",
    "    state['message'] = \"Hello, \" + state['message'] + \"!\"\n",
    "    # ao terminar, retorna o estado\n",
    "    return state\n",
    "\n",
    "# grafo: representa a aplicação e seus nós. Ele recebe o estado que funciona como o esquema.\n",
    "graph = StateGraph(AgentState)\n",
    "# agora podemos adicionar os nós: um nome e a função que representa o nó\n",
    "graph.add_node(\"greet\", greet)\n",
    "# precisamos de um início e fim\n",
    "# ele recebe o nome de um nó para demarcar o início e o fim. Neste caso, é o mesmo do nó criado acima.\n",
    "\n",
    "# o grafo seria: start -> nó(greet) -> end\n",
    "\n",
    "graph.set_entry_point(\"greet\")\n",
    "graph.set_finish_point(\"greet\")\n",
    "\n",
    "# por fim, compilamos o grafo\n",
    "app = graph.compile()\n",
    "\n",
    "# from IPython.display import Image, display\n",
    "# display(Image(app.get_graph().draw_mermaid_png()))\n",
    "\n",
    "result = app.invoke({\"message\": \"João\"})\n",
    "print(result['message'])"
   ]
  }
 ],
 "metadata": {
  "kernelspec": {
   "display_name": ".venv",
   "language": "python",
   "name": "python3"
  },
  "language_info": {
   "codemirror_mode": {
    "name": "ipython",
    "version": 3
   },
   "file_extension": ".py",
   "mimetype": "text/x-python",
   "name": "python",
   "nbconvert_exporter": "python",
   "pygments_lexer": "ipython3",
   "version": "3.13.2"
  }
 },
 "nbformat": 4,
 "nbformat_minor": 5
}
