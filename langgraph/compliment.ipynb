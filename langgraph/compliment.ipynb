{
 "cells": [
  {
   "cell_type": "code",
   "execution_count": 4,
   "id": "916ad3d5",
   "metadata": {},
   "outputs": [
    {
     "name": "stdout",
     "output_type": "stream",
     "text": [
      "Víctor, you're doing an amazing job learning LangGraph!\n"
     ]
    }
   ],
   "source": [
    "from typing import TypedDict\n",
    "from langgraph.graph import StateGraph\n",
    "\n",
    "class AppState(TypedDict):\n",
    "    name: str\n",
    "\n",
    "def compliment(state: AppState) -> AppState:\n",
    "    state['name'] = f\"{state['name']}, you're doing an amazing job learning LangGraph!\"\n",
    "    return state\n",
    "\n",
    "graph = StateGraph(AppState)\n",
    "graph.add_node(\"compliment\", compliment)\n",
    "graph.set_entry_point(\"compliment\")\n",
    "graph.set_finish_point(\"compliment\")\n",
    "\n",
    "app = graph.compile()\n",
    "result = app.invoke({\"name\": \"Víctor\"})\n",
    "print(result['name'])"
   ]
  }
 ],
 "metadata": {
  "kernelspec": {
   "display_name": ".venv",
   "language": "python",
   "name": "python3"
  },
  "language_info": {
   "codemirror_mode": {
    "name": "ipython",
    "version": 3
   },
   "file_extension": ".py",
   "mimetype": "text/x-python",
   "name": "python",
   "nbconvert_exporter": "python",
   "pygments_lexer": "ipython3",
   "version": "3.13.2"
  }
 },
 "nbformat": 4,
 "nbformat_minor": 5
}
