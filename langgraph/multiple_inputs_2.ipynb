{
 "cells": [
  {
   "cell_type": "code",
   "execution_count": 4,
   "id": "ba6411b7",
   "metadata": {},
   "outputs": [
    {
     "name": "stdout",
     "output_type": "stream",
     "text": [
      "Hi, João, your answer is 24\n"
     ]
    }
   ],
   "source": [
    "from typing import TypedDict, List\n",
    "from langgraph.graph import StateGraph\n",
    "import math\n",
    "\n",
    "class AppState(TypedDict):\n",
    "    name: str\n",
    "    values: List[int]\n",
    "    operation: str\n",
    "\n",
    "def process(state: AppState) -> AppState:\n",
    "    operation = state['operation']\n",
    "    if operation == '+':\n",
    "        print(f\"Hi, {state['name']}, your answer is {sum(state['values'])}\")\n",
    "    else:\n",
    "        print(f\"Hi, {state['name']}, your answer is {math.prod(state['values'])}\")\n",
    "    return state\n",
    "\n",
    "graph = StateGraph(AppState)\n",
    "graph.add_node(\"process\", process)\n",
    "graph.set_entry_point(\"process\")\n",
    "graph.set_finish_point(\"process\")\n",
    "\n",
    "app = graph.compile()\n",
    "result = app.invoke({\"name\": \"João\", \"operation\": \"*\", \"values\": [1,2,3,4]})"
   ]
  },
  {
   "cell_type": "code",
   "execution_count": null,
   "id": "721cdd3e",
   "metadata": {},
   "outputs": [],
   "source": []
  }
 ],
 "metadata": {
  "kernelspec": {
   "display_name": ".venv",
   "language": "python",
   "name": "python3"
  },
  "language_info": {
   "codemirror_mode": {
    "name": "ipython",
    "version": 3
   },
   "file_extension": ".py",
   "mimetype": "text/x-python",
   "name": "python",
   "nbconvert_exporter": "python",
   "pygments_lexer": "ipython3",
   "version": "3.13.2"
  }
 },
 "nbformat": 4,
 "nbformat_minor": 5
}
